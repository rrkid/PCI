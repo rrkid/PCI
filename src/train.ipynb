{
 "cells": [
  {
   "cell_type": "code",
   "execution_count": 1,
   "metadata": {},
   "outputs": [],
   "source": [
    "import pandas as pd\n",
    "import numpy as np\n",
    "\n",
    "from sklearn.feature_extraction.text import TfidfVectorizer, CountVectorizer\n",
    "from sklearn.linear_model import LogisticRegression\n",
    "\n",
    "from sklearn.model_selection import train_test_split\n",
    "from sklearn.model_selection import cross_val_score\n",
    "from sklearn import metrics\n",
    "from sklearn.naive_bayes import MultinomialNB\n",
    "import pickle5\n"
   ]
  },
  {
   "cell_type": "code",
   "execution_count": 6,
   "metadata": {},
   "outputs": [],
   "source": [
    "df_val = pd.read_csv('../tmp/prepared_data/prepared_val.csv')\n",
    "df_train = pd.read_csv('../tmp/prepared_data/prepared_train.csv')"
   ]
  },
  {
   "cell_type": "code",
   "execution_count": 27,
   "metadata": {},
   "outputs": [],
   "source": [
    "X_train = list(df_train.description.astype(str))\n",
    "X_val = list(df_val.description.astype(str))\n",
    "y_train = df_train.is_bad\n",
    "y_val = df_val.is_bad"
   ]
  },
  {
   "cell_type": "code",
   "execution_count": 28,
   "metadata": {},
   "outputs": [],
   "source": [
    "X_train, X_test, y_train, y_test = train_test_split(X_train, y_train, test_size=0.2, random_state = 42)"
   ]
  },
  {
   "cell_type": "code",
   "execution_count": 29,
   "metadata": {},
   "outputs": [],
   "source": [
    "tfv = TfidfVectorizer(strip_accents='unicode', analyzer='word',token_pattern=r'[a-zA-Z0-9А-Яа-я@]+', ngram_range=(1, 3), use_idf=1, smooth_idf=1, sublinear_tf=1)"
   ]
  },
  {
   "cell_type": "code",
   "execution_count": 30,
   "metadata": {},
   "outputs": [
    {
     "output_type": "stream",
     "name": "stdout",
     "text": "Wall time: 12min 57s\n"
    },
    {
     "output_type": "execute_result",
     "data": {
      "text/plain": "TfidfVectorizer(analyzer='word', binary=False, decode_error='strict',\n                dtype=<class 'numpy.float64'>, encoding='utf-8',\n                input='content', lowercase=True, max_df=1.0, max_features=None,\n                min_df=1, ngram_range=(1, 3), norm='l2', preprocessor=None,\n                smooth_idf=1, stop_words=None, strip_accents='unicode',\n                sublinear_tf=1, token_pattern='[a-zA-Z0-9А-Яа-я@]+',\n                tokenizer=None, use_idf=1, vocabulary=None)"
     },
     "metadata": {},
     "execution_count": 30
    }
   ],
   "source": [
    "%%time\n",
    "tfv.fit(X_train)"
   ]
  },
  {
   "cell_type": "code",
   "execution_count": 31,
   "metadata": {},
   "outputs": [
    {
     "output_type": "stream",
     "name": "stdout",
     "text": "Wall time: 7min 55s\n"
    }
   ],
   "source": [
    "%%time\n",
    "X_train_tfv = tfv.transform(X_train)\n",
    "X_test_tfv = tfv.transform(X_test)\n",
    "X_val_tfv = tfv.transform(X_val)"
   ]
  },
  {
   "cell_type": "code",
   "execution_count": 32,
   "metadata": {},
   "outputs": [],
   "source": [
    "clf = LogisticRegression(C=3.0, n_jobs=-1)"
   ]
  },
  {
   "cell_type": "code",
   "execution_count": 33,
   "metadata": {},
   "outputs": [],
   "source": [
    "pickle.dump(X_train_tfv, open('X_train_tfv.pkl', 'wb'))"
   ]
  },
  {
   "cell_type": "code",
   "execution_count": 34,
   "metadata": {},
   "outputs": [],
   "source": [
    "pickle.dump(X_test_tfv, open('X_test_tfv.pkl', 'wb'))\n",
    "pickle.dump(X_val_tfv, open('X_val_tfv.pkl', 'wb'))"
   ]
  },
  {
   "cell_type": "code",
   "execution_count": 35,
   "metadata": {},
   "outputs": [
    {
     "output_type": "execute_result",
     "data": {
      "text/plain": "LogisticRegression(C=3.0, class_weight=None, dual=False, fit_intercept=True,\n                   intercept_scaling=1, l1_ratio=None, max_iter=100,\n                   multi_class='auto', n_jobs=-1, penalty='l2',\n                   random_state=None, solver='lbfgs', tol=0.0001, verbose=0,\n                   warm_start=False)"
     },
     "metadata": {},
     "execution_count": 35
    }
   ],
   "source": [
    "clf.fit(X_train_tfv, y_train)"
   ]
  },
  {
   "cell_type": "code",
   "execution_count": 36,
   "metadata": {},
   "outputs": [
    {
     "output_type": "execute_result",
     "data": {
      "text/plain": "0.8195872933605524"
     },
     "metadata": {},
     "execution_count": 36
    }
   ],
   "source": [
    "y_pred_test = clf.predict(X_test_tfv)\n",
    "metrics.roc_auc_score(y_test, y_pred_test)"
   ]
  },
  {
   "cell_type": "code",
   "execution_count": 37,
   "metadata": {},
   "outputs": [
    {
     "output_type": "execute_result",
     "data": {
      "text/plain": "0.7925078235522125"
     },
     "metadata": {},
     "execution_count": 37
    }
   ],
   "source": [
    "y_pred_val = clf.predict(X_val_tfv)\n",
    "metrics.roc_auc_score(y_val, y_pred_val)"
   ]
  },
  {
   "cell_type": "code",
   "execution_count": 38,
   "metadata": {},
   "outputs": [
    {
     "output_type": "execute_result",
     "data": {
      "text/plain": "0.8846435572561174"
     },
     "metadata": {},
     "execution_count": 38
    }
   ],
   "source": [
    "y_pred_train = clf.predict(X_train_tfv)\n",
    "metrics.roc_auc_score(y_train, y_pred_train)"
   ]
  },
  {
   "cell_type": "code",
   "execution_count": 39,
   "metadata": {},
   "outputs": [],
   "source": [
    "pickle.dump(clf, open('TFIDF_word-1-3_LogReg_C-3.pkl', 'wb'))"
   ]
  }
 ],
 "metadata": {
  "file_extension": ".py",
  "kernelspec": {
   "display_name": "Python 3.6.7 64-bit",
   "language": "python",
   "name": "python36764bitbe546299d82448a394e90b311f92f7eb"
  },
  "language_info": {
   "codemirror_mode": {
    "name": "ipython",
    "version": 3
   },
   "file_extension": ".py",
   "mimetype": "text/x-python",
   "name": "python",
   "nbconvert_exporter": "python",
   "pygments_lexer": "ipython3",
   "version": "3.6.7-final"
  },
  "mimetype": "text/x-python",
  "name": "python",
  "npconvert_exporter": "python",
  "pygments_lexer": "ipython3",
  "version": 3
 },
 "nbformat": 4,
 "nbformat_minor": 2
}