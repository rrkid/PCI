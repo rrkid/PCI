{
 "cells": [
  {
   "cell_type": "code",
   "execution_count": 1,
   "metadata": {},
   "outputs": [],
   "source": [
    "import pandas as pd\n",
    "import numpy as np\n",
    "import string\n",
    "import re\n",
    "from vowpalwabbit import pyvw\n",
    "from sklearn.model_selection import train_test_split\n",
    "from sklearn.metrics import accuracy_score, roc_auc_score"
   ]
  },
  {
   "cell_type": "code",
   "execution_count": 2,
   "metadata": {},
   "outputs": [],
   "source": [
    "phone = r'((8\\D{0,2}9|7\\D{0,2}9|9)\\D{0,2}(\\d\\D{0,2}){9,9})'\n",
    "nik = r'(@\\S*)'\n",
    "vk = r'(vk\\.com\\/\\w*)'\n",
    "i_d = r'(id\\/\\d*)'\n",
    "site = r'(\\w*\\.(ru|com|net|org|biz|edu|gov|info|by|рф|бел|ua|укр))'\n",
    "dis = r'(\\w*#\\d*)'\n",
    "CONTACT = '|'.join([phone, nik, vk, i_d, site, dis])"
   ]
  },
  {
   "cell_type": "code",
   "execution_count": 3,
   "metadata": {},
   "outputs": [],
   "source": [
    "def fill_nan(df):\n",
    "    median_by_subcat = df.groupby('subcategory').median()\n",
    "    for sbct in set(df['subcategory']):\n",
    "        df.loc[(df['subcategory'] == sbct) & (df['price'].isna()), 'price'] = median_by_subcat.loc[sbct]['price']\n",
    "    return df"
   ]
  },
  {
   "cell_type": "code",
   "execution_count": 4,
   "metadata": {},
   "outputs": [],
   "source": [
    "def del_out_lognorm(df):\n",
    "    df = df[df['price'] < 10**7]\n",
    "    df['price'] = np.log1p(df['price'])\n",
    "    return df"
   ]
  },
  {
   "cell_type": "code",
   "execution_count": 5,
   "metadata": {},
   "outputs": [],
   "source": [
    "def get_hour(df):\n",
    "    df['datetime_submitted'] = pd.to_datetime(df['datetime_submitted'], yearfirst=True)\n",
    "    df['hour'] = [d.hour for d in df['datetime_submitted']]\n",
    "    return df.drop('datetime_submitted', axis=1)"
   ]
  },
  {
   "cell_type": "code",
   "execution_count": 6,
   "metadata": {},
   "outputs": [],
   "source": [
    "def make_logistic(df):\n",
    "    df['is_bad'] = df['is_bad'].map({1: 1, 0: -1})\n",
    "    return df"
   ]
  },
  {
   "cell_type": "code",
   "execution_count": 7,
   "metadata": {},
   "outputs": [],
   "source": [
    "def to_vw_format(text, subcat, cat, price, region, city, hour, label=None):\n",
    "    text = text.lower()\n",
    "    table = str.maketrans({key: ' ' for key in string.punctuation + '\\n'})\n",
    "\n",
    "    text = text.translate(table)\n",
    "    text = re.sub(CONTACT, ' контакт ', text, 0)\n",
    "\n",
    "    subcat = subcat.replace(' ', '')\n",
    "    cat = cat.replace(' ', '')\n",
    "    region = region.replace(' ', '')\n",
    "    city = city.replace(' ', '')\n",
    "    return str(label or '') + ' |t ' + text + ' |price:' + str(price) + ' |s ' + subcat \\\n",
    "                            + ' |c ' + cat + ' |r ' + region + ' |ct ' + city + ' |h ' + str(hour) + '\\n'"
   ]
  },
  {
   "cell_type": "code",
   "execution_count": null,
   "metadata": {},
   "outputs": [],
   "source": []
  },
  {
   "cell_type": "code",
   "execution_count": null,
   "metadata": {},
   "outputs": [],
   "source": []
  },
  {
   "cell_type": "code",
   "execution_count": null,
   "metadata": {},
   "outputs": [],
   "source": []
  },
  {
   "cell_type": "code",
   "execution_count": 8,
   "metadata": {},
   "outputs": [],
   "source": [
    "train = pd.read_csv('../tmp/data/train.csv')\n",
    "val = pd.read_csv('../tmp/data/val.csv')"
   ]
  },
  {
   "cell_type": "code",
   "execution_count": 9,
   "metadata": {},
   "outputs": [],
   "source": [
    "train = get_hour(train)\n",
    "train = fill_nan(train)\n",
    "train = del_out_lognorm(train)\n",
    "#train = make_logistic(train)\n",
    "val = get_hour(val)\n",
    "val = fill_nan(val)\n",
    "val = del_out_lognorm(val)\n",
    "#val = make_logistic(val)"
   ]
  },
  {
   "cell_type": "code",
   "execution_count": 10,
   "metadata": {},
   "outputs": [],
   "source": [
    "val1, test = train_test_split(val, test_size=0.5, random_state = 42)\n",
    "y_train = train.is_bad.to_numpy()\n",
    "y_test = test.is_bad.to_numpy()\n",
    "y_val = val1.is_bad.to_numpy()\n"
   ]
  },
  {
   "cell_type": "code",
   "execution_count": 3,
   "metadata": {},
   "outputs": [],
   "source": [
    "model = pyvw.vw(d='../tmp/prepared_vw/train.txt', f='../models/fitted_models/model.vw', b=22, classweight='-1:0.32',\n",
    "                loss_function='logistic', link='logistic',\n",
    "                ngram='t3', skips='t2',\n",
    "                passes=20, cache_file='../models/fitted_models/train.cache', k=True,\n",
    "                decay_learning_rate=0.85, l1=10**-6, l2=10**-6, ftrl=True,\n",
    "                random_seed=45)"
   ]
  },
  {
   "cell_type": "code",
   "execution_count": 11,
   "metadata": {},
   "outputs": [],
   "source": [
    "pred = pyvw.vw(i='../models/fitted_models/model.vw', d='../tmp/prepared_vw/train.txt', p='../tmp/predictions/predictions_train.txt')\n",
    "pred = pyvw.vw(i='../models/fitted_models/model.vw', d='../tmp/prepared_vw/test.txt', p='../tmp/predictions/predictions_test.txt')\n",
    "pred = pyvw.vw(i='../models/fitted_models/model.vw', d='../tmp/prepared_vw/val.txt', p='../tmp/predictions/predictions_val.txt')"
   ]
  },
  {
   "cell_type": "code",
   "execution_count": 12,
   "metadata": {},
   "outputs": [],
   "source": [
    "y_pred_train = pd.read_csv('../tmp/predictions/predictions_train.txt', header=None).to_numpy().T[0]\n",
    "m = y_pred_train > 0.5\n",
    "y_pred_train = m.astype(np.int64)"
   ]
  },
  {
   "cell_type": "code",
   "execution_count": 13,
   "metadata": {},
   "outputs": [],
   "source": [
    "y_pred_test = pd.read_csv('../tmp/predictions/predictions_test.txt', header=None).to_numpy().T[0]\n",
    "m = y_pred_test > 0.5\n",
    "y_pred_test = m.astype(np.int64)"
   ]
  },
  {
   "cell_type": "code",
   "execution_count": 14,
   "metadata": {},
   "outputs": [],
   "source": [
    "y_pred_val = pd.read_csv('../tmp/predictions/predictions_val.txt', header=None).to_numpy().T[0]\n",
    "m = y_pred_val > 0.5\n",
    "y_pred_val = m.astype(np.int64)"
   ]
  },
  {
   "cell_type": "code",
   "execution_count": 56,
   "metadata": {},
   "outputs": [],
   "source": []
  },
  {
   "cell_type": "code",
   "execution_count": 15,
   "metadata": {},
   "outputs": [
    {
     "output_type": "execute_result",
     "data": {
      "text/plain": "0.957225424672258"
     },
     "metadata": {},
     "execution_count": 15
    }
   ],
   "source": [
    "roc_auc_score(y_train, y_pred_train)"
   ]
  },
  {
   "cell_type": "code",
   "execution_count": 16,
   "metadata": {},
   "outputs": [
    {
     "output_type": "execute_result",
     "data": {
      "text/plain": "0.9632608285243409"
     },
     "metadata": {},
     "execution_count": 16
    }
   ],
   "source": [
    "accuracy_score(y_train, y_pred_train)"
   ]
  },
  {
   "cell_type": "code",
   "execution_count": 17,
   "metadata": {},
   "outputs": [
    {
     "output_type": "execute_result",
     "data": {
      "text/plain": "0.8420030028037228"
     },
     "metadata": {},
     "execution_count": 17
    }
   ],
   "source": [
    "roc_auc_score(y_test, y_pred_test)"
   ]
  },
  {
   "cell_type": "code",
   "execution_count": 18,
   "metadata": {},
   "outputs": [
    {
     "output_type": "execute_result",
     "data": {
      "text/plain": "0.8378512192102983"
     },
     "metadata": {},
     "execution_count": 18
    }
   ],
   "source": [
    "accuracy_score(y_test, y_pred_test)"
   ]
  },
  {
   "cell_type": "code",
   "execution_count": 19,
   "metadata": {},
   "outputs": [
    {
     "output_type": "execute_result",
     "data": {
      "text/plain": "0.8388252227203914"
     },
     "metadata": {},
     "execution_count": 19
    }
   ],
   "source": [
    "roc_auc_score(y_val, y_pred_val)"
   ]
  },
  {
   "cell_type": "code",
   "execution_count": 20,
   "metadata": {},
   "outputs": [
    {
     "output_type": "execute_result",
     "data": {
      "text/plain": "0.8299083931666255"
     },
     "metadata": {},
     "execution_count": 20
    }
   ],
   "source": [
    "accuracy_score(y_val, y_pred_val)"
   ]
  },
  {
   "cell_type": "code",
   "execution_count": null,
   "metadata": {},
   "outputs": [],
   "source": []
  }
 ],
 "metadata": {
  "file_extension": ".py",
  "kernelspec": {
   "display_name": "Python 3.6.7 64-bit",
   "language": "python",
   "name": "python36764bitbe546299d82448a394e90b311f92f7eb"
  },
  "language_info": {
   "codemirror_mode": {
    "name": "ipython",
    "version": 3
   },
   "file_extension": ".py",
   "mimetype": "text/x-python",
   "name": "python",
   "nbconvert_exporter": "python",
   "pygments_lexer": "ipython3",
   "version": "3.6.7-final"
  },
  "mimetype": "text/x-python",
  "name": "python",
  "npconvert_exporter": "python",
  "pygments_lexer": "ipython3",
  "version": 3
 },
 "nbformat": 4,
 "nbformat_minor": 2
}